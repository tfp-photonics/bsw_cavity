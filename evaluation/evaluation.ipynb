{
 "cells": [
  {
   "cell_type": "code",
   "execution_count": null,
   "id": "3857ebe0-f8ef-4d32-a4e6-4849805640a8",
   "metadata": {},
   "outputs": [],
   "source": [
    "import h5py\n",
    "import meep as mp\n",
    "import meep.adjoint as mpa\n",
    "import numpy as np\n",
    "from skimage.draw import disk\n",
    "import matplotlib\n",
    "import matplotlib.pyplot as plt\n",
    "from matplotlib.colors import CenteredNorm, LogNorm, SymLogNorm\n",
    "from mpl_toolkits.axes_grid1 import make_axes_locatable\n",
    "import tikzplotlib\n",
    "\n",
    "from util import h5_to_dict"
   ]
  },
  {
   "cell_type": "code",
   "execution_count": null,
   "id": "444431b3-f0c5-421d-b11a-54b8bb985504",
   "metadata": {},
   "outputs": [],
   "source": [
    "pgf_with_latex = {                      # setup matplotlib to use latex for output\n",
    "    \"pgf.texsystem\": \"pdflatex\",        # change this if using xetex or lautex\n",
    "    \"text.usetex\": True,                # use LaTeX to write all text\n",
    "    #\"font.family\": \"lmodern\",\n",
    "    \"font.serif\": [],                   # blank entries should cause plots \n",
    "    \"font.sans-serif\": [],              # to inherit fonts from the document\n",
    "    \"font.monospace\": [],\n",
    "    \"axes.labelsize\": 10,               # LaTeX default is 10pt font.\n",
    "    \"font.size\": 11,\n",
    "    \"legend.fontsize\": 8,               # Make the legend/label fonts \n",
    "    \"xtick.labelsize\": 8,               # a little smaller\n",
    "    \"ytick.labelsize\": 8,\n",
    "    \"pgf.preamble\": \" \".join([ # plots will use this preamble\n",
    "        r\"\\usepackage[utf8]{inputenc}\",\n",
    "        r\"\\usepackage[T1]{fontenc}\",\n",
    "        #r\"\\usepackage{lmodern}\",\n",
    "        r\"\\usepackage{siunitx}\",\n",
    "        ])\n",
    "    }\n",
    "plt.rcParams.update(pgf_with_latex)\n",
    "matplotlib.use(\"pgf\")"
   ]
  },
  {
   "cell_type": "code",
   "execution_count": null,
   "id": "8023f906-9f3e-4e63-ac13-fd3c96110788",
   "metadata": {},
   "outputs": [],
   "source": [
    "runs = h5_to_dict(h5py.File(\"index_delta_sweep_n1019_eval_res50.h5\", \"r\"), {})\n",
    "rr = runs[list(runs.keys())[0]][\"radius\"]\n",
    "cf = len(runs[list(runs.keys())[0]][\"ldos_freqs\"]) // 2\n",
    "cx, cy = np.array(runs[list(runs.keys())[0]][\"fields_ex\"].shape) // 2"
   ]
  },
  {
   "cell_type": "markdown",
   "id": "b023fc3b-b6a4-49a0-834e-34003e47e6ed",
   "metadata": {
    "jp-MarkdownHeadingCollapsed": true,
    "tags": []
   },
   "source": [
    "## Simulation setup"
   ]
  },
  {
   "cell_type": "code",
   "execution_count": null,
   "id": "9c754bf7-35dd-42aa-b80e-c270d5886e48",
   "metadata": {},
   "outputs": [],
   "source": [
    "mp.verbosity(0)\n",
    "sim_res = 50\n",
    "radius = 5.7\n",
    "pshape = (int(2 * sim_res * radius), int(2 * sim_res * radius))\n",
    "lcen = 0.57\n",
    "decay_by = 1e-6\n",
    "index_low = 1.082\n",
    "index_high = 1.167\n",
    "\n",
    "d_wvg = 0.3\n",
    "l_wvg = 1\n",
    "dpml = 1.0\n",
    "fcen = 1 / lcen\n",
    "fwidth = 0.2\n",
    "\n",
    "feature_size = 0.05\n",
    "\n",
    "mask = np.zeros(pshape)\n",
    "rr, cc = disk((shape - 1) / 2, shape[0] / 2, shape=shape)\n",
    "mask[rr, cc] = 1\n",
    "\n",
    "cavity_center = dpml + l_wvg + radius\n",
    "cell = mp.Vector3(2 * (dpml + radius + 1), 2 * dpml + 2 * radius + 1 + l_wvg)\n",
    "\n",
    "sources = [\n",
    "    mp.Source(\n",
    "        mp.GaussianSource(frequency=fcen, fwidth=fwidth),\n",
    "        center=mp.Vector3(0, cavity_center),\n",
    "        size=mp.Vector3(0, 0),\n",
    "        component=mp.Ex,\n",
    "    )\n",
    "]\n",
    "\n",
    "n1 = mp.Medium(index=index_low)\n",
    "n2 = mp.Medium(index=index_high)\n",
    "\n",
    "mg = mp.MaterialGrid(pshape, n1, n2)\n",
    "mg.update_weights(np.ones_like(mask) * mask / 2)\n",
    "\n",
    "design_region = mpa.DesignRegion(\n",
    "    mg,\n",
    "    volume=mp.Volume(\n",
    "        center=mp.Vector3(0, cavity_center),\n",
    "        size=mp.Vector3(2 * radius, 2 * radius),\n",
    "    ),\n",
    ")\n",
    "\n",
    "geometry = [\n",
    "    mp.Block(\n",
    "        center=mp.Vector3(0, cavity_center),\n",
    "        size=mp.Vector3(2 * radius, 2 * radius),\n",
    "        material=mg,\n",
    "    ),\n",
    "    mp.Sphere(center=mp.Vector3(0, cavity_center), radius=0.4, material=n2),\n",
    "    mp.Block(\n",
    "        center=mp.Vector3(0, (dpml + l_wvg) / 2),\n",
    "        size=mp.Vector3(d_wvg, dpml + l_wvg),\n",
    "        material=n2,\n",
    "    ),\n",
    "]\n",
    "\n",
    "sim = mp.Simulation(\n",
    "    cell_size=cell,\n",
    "    boundary_layers=[mp.PML(dpml)],\n",
    "    geometry=geometry,\n",
    "    sources=sources,\n",
    "    resolution=sim_res,\n",
    "    default_material=n1,\n",
    "    geometry_center=mp.Vector3(0, cell.y / 2),\n",
    "    symmetries=[mp.Mirror(mp.X, phase=-1)],\n",
    ")\n",
    "\n",
    "te0 = mpa.EigenmodeCoefficient(\n",
    "    sim,\n",
    "    mp.Volume(\n",
    "        center=mp.Vector3(0, dpml),\n",
    "        size=mp.Vector3(cell.x, 0),\n",
    "    ),\n",
    "    mode=1,\n",
    "    eig_parity=mp.EVEN_Z,  # TM\n",
    ")\n",
    "\n",
    "mpa_opt = mpa.OptimizationProblem(\n",
    "    simulation=sim,\n",
    "    objective_functions=lambda x: anp.mean(anp.abs(x) ** 2),\n",
    "    objective_arguments=[te0],\n",
    "    design_regions=[design_region],\n",
    "    frequencies=[fcen],\n",
    "    decay_by=decay_by,\n",
    ")\n",
    "\n",
    "fig, ax = plt.subplots(1, 1, figsize=(3, 3), dpi=300)\n",
    "mpa_opt.plot2D(True, ax=ax)\n",
    "fig.tight_layout()\n",
    "fig.savefig(\"sim_setup.png\", bbox_inches=\"tight\", pad_inches=0, dpi=300)\n",
    "plt.show()"
   ]
  },
  {
   "cell_type": "markdown",
   "id": "6bf436e1-cd40-4eab-b845-8bf5cce92e61",
   "metadata": {
    "tags": []
   },
   "source": [
    "## Cavities & Fields"
   ]
  },
  {
   "cell_type": "code",
   "execution_count": null,
   "id": "8813f4fb-16a5-4b77-9d60-23a7b505659c",
   "metadata": {},
   "outputs": [],
   "source": [
    "nx = ny = int(np.around(np.sqrt(len(runs))))\n",
    "if len(runs) % ny != 0:\n",
    "    ny += 1\n",
    "    \n",
    "extent = (-rr, rr, -rr, rr)"
   ]
  },
  {
   "cell_type": "code",
   "execution_count": null,
   "id": "5b232f44-13e0-43cf-be6d-cffe6739e984",
   "metadata": {},
   "outputs": [],
   "source": [
    "fig, ax = plt.subplots(2, 4, figsize=(4, 2), dpi=300, sharex=True, sharey=True)\n",
    "for axi, run in zip(np.array(ax).T, [runs[k] for k in [\"0.01\", \"0.05\", \"0.09\", \"0.13\"]]):\n",
    "    axi[0].set_title(rf\"$\\Delta n = {np.around(run['index_delta'], 3)}$\", fontsize=6, y=0.95)\n",
    "    field = np.abs(run[\"fields_ex\"])*2 + np.abs(run[\"fields_ey\"])**2\n",
    "    img = axi[1].imshow(field.T, origin=\"lower\", cmap=\"magma\", norm=LogNorm(1e-6, 1e6), extent=extent)\n",
    "    design = run[\"design\"]\n",
    "    rc, cc = disk(np.array(design.shape) / 2, 21, shape=design.shape)\n",
    "    design[rc, cc] = 1\n",
    "    axi[0].imshow(design.T, origin=\"lower\", cmap=\"gray_r\", extent=extent)\n",
    "\n",
    "fig.subplots_adjust(right=0.9)\n",
    "cbar_ax = fig.add_axes([0.95, 0.24, 0.025, 0.6])\n",
    "cbar_ax.tick_params(labelsize=5, width=0.6)\n",
    "cbar_ax.set_title(r\"$|E|^2$\", fontsize=7, x=1.2)\n",
    "fig.colorbar(img, cax=cbar_ax)\n",
    "\n",
    "ax[0][0].set_ylabel(r\"y (\\unit{\\um})\", fontsize=6)\n",
    "ax[1][0].set_ylabel(r\"y (m)\", fontsize=6)\n",
    "ax[1][0].set_xlabel(r\"x (m)\", fontsize=6)\n",
    "ax[1][1].set_xlabel(r\"x (m)\", fontsize=6)\n",
    "ax[1][2].set_xlabel(r\"x (m)\", fontsize=6)\n",
    "ax[1][3].set_xlabel(r\"x (m)\", fontsize=6)\n",
    "\n",
    "#fig.suptitle(\"Designs & Fields\", y=1.08,  fontsize=8)\n",
    "\n",
    "for _, axi in np.ndenumerate(ax):\n",
    "    axi.tick_params(axis=\"both\", labelsize=5, width=0.5, length=2)\n",
    "fig.subplots_adjust(hspace=0.0, wspace=0.2, top=0.95)\n",
    "fig.savefig(\"fields_designs.png\", bbox_inches=\"tight\", pad_inches=0, dpi=300)\n",
    "plt.show()"
   ]
  },
  {
   "cell_type": "markdown",
   "id": "342434f0-9f75-4811-94b9-77a5087668cd",
   "metadata": {
    "jp-MarkdownHeadingCollapsed": true,
    "tags": []
   },
   "source": [
    "## Optimization history"
   ]
  },
  {
   "cell_type": "code",
   "execution_count": null,
   "id": "f845a20e-a0a7-4770-8185-b111a9eab1d3",
   "metadata": {},
   "outputs": [],
   "source": [
    "fig, ax = plt.subplots(1, 1, figsize=(12, 8))\n",
    "color = plt.cm.turbo(np.linspace(1, 0, len(runs)))\n",
    "for idx, (k, run) in enumerate(runs.items()):\n",
    "    ax.plot(np.maximum.accumulate(run[\"hist\"]), label=str(k), color=color[idx], alpha=1, zorder=100-idx)\n",
    "ax.set_yscale(\"log\")\n",
    "ax.set_xlabel(\"n\")\n",
    "ax.set_ylabel(\"FoM\")\n",
    "plt.legend(title=\"Δn\")\n",
    "handles, labels = ax.get_legend_handles_labels()\n",
    "ax.legend(handles[::-1], labels[::-1], title=\"Δn\")\n",
    "fig.tight_layout()\n",
    "fig.savefig(\"optimization_hist.png\", bbox_inches=\"tight\", pad_inches=0, dpi=300)\n",
    "plt.show()"
   ]
  },
  {
   "cell_type": "markdown",
   "id": "b7cc81ce-014d-49b4-b652-3dd1c445bf58",
   "metadata": {
    "tags": []
   },
   "source": [
    "## Purcell enhancement & coupling efficiency"
   ]
  },
  {
   "cell_type": "code",
   "execution_count": null,
   "id": "087af05e-6e55-4cd6-b2dc-d52500568653",
   "metadata": {},
   "outputs": [],
   "source": [
    "fig, ax = plt.subplots(1, 2, figsize=(6, 2.2), dpi=300)\n",
    "color = plt.cm.turbo(np.linspace(1, 0, len(runs)))\n",
    "for axi in ax:\n",
    "    axi.tick_params(axis=\"both\", labelsize=6)\n",
    "    axi.set_xlabel(r\"$\\lambda$ (nm)\", fontsize=7)\n",
    "    axi.xaxis.set_ticks(np.linspace(540, 600, 5))\n",
    "    axi.axvline(1000 / run[\"ldos_freqs\"][cf], ls=\"--\", color=\"gray\", lw=1.0, alpha=0.5)\n",
    "for idx, (k, run) in enumerate(runs.items()):\n",
    "    ax[0].plot(\n",
    "        1000 / run[\"ldos_freqs\"],\n",
    "        np.sum(np.abs(run[\"fluxes_design\"]), axis=0) / np.sum(np.abs(run[\"fluxes_bulk\"]), axis=0),\n",
    "        color=color[idx],\n",
    "        label=k,\n",
    "        lw=0.7,\n",
    "        alpha=1)\n",
    "    ax[1].plot(\n",
    "        1000 / run[\"ldos_freqs\"],\n",
    "        np.abs(run[\"mode_coeffs_design\"][0, :, 1])**2 / np.sum(np.abs(run[\"fluxes_design\"]), axis=0),\n",
    "        color=color[idx],\n",
    "        lw=0.7,\n",
    "        alpha=1)\n",
    "ax[0].set_ylabel(\"Purcell enhancement\", fontsize=7)\n",
    "ax[1].set_ylabel(\"Coupling efficiency\", fontsize=7)\n",
    "handles, labels = ax[0].get_legend_handles_labels()\n",
    "ax[1].legend(\n",
    "    handles[::-1], labels[::-1],\n",
    "    title=r\"$\\Delta n$\",\n",
    "    title_fontsize=6,\n",
    "    prop={\"size\": 5},\n",
    "    ncol=1,\n",
    "    fancybox=True,\n",
    "    shadow=False,\n",
    "    loc=0,\n",
    "    bbox_to_anchor=(1.04, 1.04))\n",
    "ax[0].set_title(\"(a)\", loc=\"left\", size=10)\n",
    "ax[1].set_title(\"(b)\", loc=\"left\", size=10)\n",
    "fig.tight_layout()\n",
    "#fig.savefig(\"purcell_coupling_spectra.png\", bbox_inches=\"tight\", pad_inches=0, dpi=300)\n",
    "plt.show()"
   ]
  },
  {
   "cell_type": "code",
   "execution_count": null,
   "id": "152e5717-0f1e-404b-ae64-390ab46a9306",
   "metadata": {},
   "outputs": [],
   "source": [
    "dn = [float(k) for k in runs.keys()]\n",
    "purcell = [np.sum(np.abs(run[\"fluxes_design\"]), axis=0)[cf] / np.sum(np.abs(run[\"fluxes_bulk\"]), axis=0)[cf] for run in runs.values()]\n",
    "coupling = [np.abs(run[\"mode_coeffs_design\"][0, cf, 1])**2 / np.sum(np.abs(run[\"fluxes_design\"]), axis=0)[cf] for run in runs.values()]\n",
    "fig, ax1 = plt.subplots(1, 1, figsize=(3, 2), dpi=300)\n",
    "\n",
    "color = \"tab:blue\"\n",
    "ax1.plot(dn, purcell, ls=\"--\", marker=\"x\", lw=0.5, ms=3, color=color)\n",
    "ax1.set_xlabel(r\"$\\Delta n$\", fontsize=7)\n",
    "ax1.set_ylabel(\"Purcell factor\", color=color, fontsize=7)\n",
    "ax1.tick_params(axis=\"x\", labelsize=6)\n",
    "ax1.tick_params(axis=\"y\", labelcolor=color, labelsize=6)\n",
    "ax1.xaxis.set_ticks(np.linspace(dn[0], dn[-1], 7))\n",
    "\n",
    "color = \"tab:red\"\n",
    "ax2 = ax1.twinx()\n",
    "ax2.plot(dn, coupling, ls=\"--\", marker=\"x\", lw=0.5, ms=3, color=color)\n",
    "ax2.set_ylabel(\"Coupling efficiency\", color=color, fontsize=7)\n",
    "ax2.tick_params(axis=\"y\", labelcolor=color, labelsize=6)\n",
    "\n",
    "fig.tight_layout()\n",
    "fig.savefig(\"purcell_coupling_570nm.png\", bbox_inches=\"tight\", pad_inches=0, dpi=300)\n",
    "plt.show()"
   ]
  },
  {
   "cell_type": "markdown",
   "id": "376ab919-26fc-466a-9aa5-8878c4aff03f",
   "metadata": {},
   "source": [
    "## 3D"
   ]
  },
  {
   "cell_type": "code",
   "execution_count": null,
   "id": "f461e36f-9c35-4cf4-8af7-66b762a66e2f",
   "metadata": {},
   "outputs": [],
   "source": [
    "data_3d = h5_to_dict(h5py.File(\"eval_3d_res80_n1019_nomode_dn0130.h5\", \"r\"), {})\n",
    "run = runs[\"0.13\"]"
   ]
  },
  {
   "cell_type": "code",
   "execution_count": null,
   "id": "ee6467c1-a066-4f4c-8b06-3b570e91c7d0",
   "metadata": {},
   "outputs": [],
   "source": [
    "fields_xy = np.sum(np.abs(data_3d[\"fields_plane_xy_dr\"]**2), axis=0)\n",
    "fields_xz = np.sum(np.abs(data_3d[\"fields_plane_xz\"]**2), axis=0)\n",
    "fields_yz = np.sum(np.abs(data_3d[\"fields_plane_yz\"]**2), axis=0)\n",
    "freqs = data_3d[\"ldos_freqs\"]\n",
    "fluxes_bulk_3d = np.sum(np.abs(data_3d[\"fluxes_bulk\"]), axis=0)\n",
    "fluxes_design_3d = np.sum(np.abs(data_3d[\"fluxes_design\"]), axis=0)\n",
    "purcell_3d = fluxes_design_3d / fluxes_bulk_3d\n",
    "\n",
    "purcell_2d = np.sum(np.abs(runs[\"0.13\"][\"fluxes_design\"]), axis=0) / np.sum(np.abs(runs[\"0.13\"][\"fluxes_bulk\"]), axis=0)\n",
    "fields_2d = np.abs(runs[\"0.13\"][\"fields_ex\"])**2 + np.abs(runs[\"0.13\"][\"fields_ey\"])**2\n",
    "\n",
    "fields_xy /= np.max(fields_xy)\n",
    "fields_2d /= np.max(fields_2d)"
   ]
  },
  {
   "cell_type": "code",
   "execution_count": null,
   "id": "ed7090f7-070b-44b7-8f2b-0c3175b422d6",
   "metadata": {},
   "outputs": [],
   "source": [
    "fig, ax = plt.subplots(1, 2, figsize=(4, 2), dpi=300)\n",
    "ax[0].imshow(fields_xy.T, origin=\"lower\",  cmap=\"magma\", norm=LogNorm(1e-7, 1))\n",
    "ax[1].imshow(fields_2d.T, origin=\"lower\",  cmap=\"magma\", norm=LogNorm(3e-6, 1))\n",
    "for axi in ax:\n",
    "    axi.axis(\"off\")\n",
    "fig.tight_layout()\n",
    "plt.show()"
   ]
  },
  {
   "cell_type": "code",
   "execution_count": null,
   "id": "580cd238-c8b4-4d45-8fc0-09c0129a3836",
   "metadata": {},
   "outputs": [],
   "source": [
    "fig, ax = plt.subplots(1, 1, figsize=(12, 4))\n",
    "ax.imshow(np.sum(np.abs(data_3d[\"fields_plane_xz_wvg\"]**2), axis=0).T[220:-100, 420:-420], origin=\"lower\")\n",
    "ax.axis(\"off\")\n",
    "plt.show()"
   ]
  },
  {
   "cell_type": "code",
   "execution_count": null,
   "id": "2a9f985d-77d9-4953-9624-d29738d23ade",
   "metadata": {},
   "outputs": [],
   "source": [
    "fluxes_bulk_3d_inplane = np.sum(np.abs(data_3d[\"fluxes_bulk\"]), axis=0)\n",
    "fluxes_design_3d_inplane = np.sum(np.abs(data_3d[\"fluxes_design\"]), axis=0)\n",
    "purcell_3d_inplane = fluxes_design_3d_inplane / fluxes_bulk_3d_inplane"
   ]
  },
  {
   "cell_type": "code",
   "execution_count": null,
   "id": "7ec8f074-2b07-43d2-9f3f-d9f56bcb15cf",
   "metadata": {},
   "outputs": [],
   "source": [
    "fig, ax = plt.subplots(6, 3, figsize=(12, 8))\n",
    "for axi, bulk, design in zip(ax, data_3d[\"fluxes_bulk\"], data_3d[\"fluxes_design\"]):\n",
    "    axi[0].plot(1000 / freqs, bulk)\n",
    "    axi[1].plot(1000 / freqs, design)\n",
    "    axi[2].plot(1000 / freqs, design / bulk)\n",
    "fig.tight_layout()\n",
    "plt.show()"
   ]
  },
  {
   "cell_type": "code",
   "execution_count": null,
   "id": "f22e8860-c8d8-4b5e-9151-befe31a113a0",
   "metadata": {},
   "outputs": [],
   "source": [
    "fluxes_bulk_inplane = np.sum(np.abs(np.take(data_3d[\"fluxes_bulk\"], (0, 1, 3, 4), axis=0)), axis=0)\n",
    "fluxes_design_inplane = np.sum(np.abs(np.take(data_3d[\"fluxes_design\"], (0, 1, 3, 4), axis=0)), axis=0)\n",
    "fluxes_bulk_oplane = np.sum(np.abs(np.take(data_3d[\"fluxes_bulk\"], (2, 5), axis=0)), axis=0)\n",
    "fluxes_design_oplane = np.sum(np.abs(np.take(data_3d[\"fluxes_design\"], (2, 5), axis=0)), axis=0)\n",
    "purcell_inplane = fluxes_design_inplane / fluxes_bulk_inplane\n",
    "purcell_oplane = fluxes_design_oplane / fluxes_bulk_oplane"
   ]
  },
  {
   "cell_type": "code",
   "execution_count": null,
   "id": "eae45c52-39bd-48d1-b2ab-157d77af5e37",
   "metadata": {},
   "outputs": [],
   "source": [
    "plt.plot(1000 / freqs, np.roll(purcell_inplane, -8))\n",
    "plt.plot(1000 / freqs, np.roll(purcell_oplane, -8))\n",
    "plt.show()"
   ]
  },
  {
   "cell_type": "code",
   "execution_count": null,
   "id": "e354c76d-479c-46b7-a6a0-f8739fcada6a",
   "metadata": {},
   "outputs": [],
   "source": [
    "run = runs[\"0.13\"]\n",
    "\n",
    "fig, ax = plt.subplots(1, 2, figsize=(6, 2.2), dpi=300)\n",
    "ax[0].plot(1000 / freqs, purcell_2d, lw=0.7)\n",
    "ax[0].plot(1000 / freqs, np.roll(purcell_3d, -4), lw=0.7)\n",
    "ax[0].axvline(570, color=\"gray\", ls=\"--\", lw=0.5)\n",
    "ax[0].set_ylabel(\"Purcell factor\", fontsize=7)\n",
    "\n",
    "ax[1].plot(1000 / freqs, np.abs(run[\"mode_coeffs_design\"][0, :, 1])**2 / np.sum(np.abs(run[\"fluxes_design\"]), axis=0),\n",
    "           label=\"2D\",\n",
    "           lw=0.7)\n",
    "ax[1].plot(1000 / freqs, np.roll(np.abs(data_3d[\"wvg_flux\"] / fluxes_design_3d), -4),\n",
    "           label=\"3D\",\n",
    "           lw=0.7)\n",
    "ax[1].set_ylabel(\"Coupling efficiency\", fontsize=7)\n",
    "\n",
    "for axi in ax:\n",
    "    axi.xaxis.set_ticks(np.linspace(540, 600, 5))\n",
    "    axi.axvline(570, color=\"gray\", ls=\"--\", lw=0.5)\n",
    "    axi.tick_params(axis=\"both\", labelsize=6)\n",
    "    axi.set_xlabel(r\"$\\lambda$ (nm)\", fontsize=7)\n",
    "\n",
    "fig.legend(\n",
    "    title_fontsize=6,\n",
    "    prop={\"size\": 5},\n",
    "    ncol=2,\n",
    "    fancybox=True,\n",
    "    shadow=False,\n",
    "    loc=1,\n",
    "    bbox_to_anchor=(0.96, 0.95))\n",
    "\n",
    "ax[0].set_title(\"(a)\", loc=\"left\", size=10)\n",
    "ax[1].set_title(\"(b)\", loc=\"left\", size=10)\n",
    "\n",
    "fig.tight_layout()\n",
    "fig.savefig(\"comparison_2d_3d.png\", bbox_inches=\"tight\", pad_inches=0, dpi=300)\n",
    "plt.show()"
   ]
  },
  {
   "cell_type": "code",
   "execution_count": null,
   "id": "f3d06181-171a-43dc-a3e1-cf426ae7ed5b",
   "metadata": {},
   "outputs": [],
   "source": []
  }
 ],
 "metadata": {
  "kernelspec": {
   "display_name": "Python 3 (ipykernel)",
   "language": "python",
   "name": "python3"
  },
  "language_info": {
   "codemirror_mode": {
    "name": "ipython",
    "version": 3
   },
   "file_extension": ".py",
   "mimetype": "text/x-python",
   "name": "python",
   "nbconvert_exporter": "python",
   "pygments_lexer": "ipython3",
   "version": "3.10.4"
  }
 },
 "nbformat": 4,
 "nbformat_minor": 5
}
